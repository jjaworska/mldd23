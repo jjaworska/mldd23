{
 "cells": [
  {
   "cell_type": "code",
   "execution_count": 1,
   "id": "7aa51028",
   "metadata": {},
   "outputs": [],
   "source": [
    "import sys\n",
    "sys.path.append('..')"
   ]
  },
  {
   "cell_type": "markdown",
   "id": "39fed690",
   "metadata": {},
   "source": [
    "# Key Molecular Properties in Drug Design\n",
    "\n",
    "Drug design is a process that needs to take into accounts multiple parameters. First, the molecule needs to be of course active, i.e. interact with its biological target to induce some therapeutic effect. Second, this molecule should also have a set of other desirable molecular properties that are known under the term ADMET (absorption, distribution, metabolism, excretion, and toxicity). These properties ensure that our compound will reach its target and will not induce any side effects.\n",
    "\n",
    "## Activity\n",
    "\n",
    "Biological activity of a compound is measured in a laboratory by conducting biological **assays** that tests how well our molecule binds and interacts with its biological target. An assay can be done using proteins or whole cells, and there are many types of activity measurements that can be done. For example, we can test only if the molecule binds to its target or look for a specific interaction that causes a desirable effect or inhibition. The activity values are usually expressed as:\n",
    "\n",
    "- **EC$_{50}$**/**IC$_{50}$** - molecule concentration at which half of the effect or inhibition (blockage) is reached; the lower this value is, the stronger the effect induced by the molecule is.\n",
    "- **Ki** - the inhibition constant, which measures the binding affinity; again, lower values correspond to stronger binding.\n",
    "- **Inhibition in %** - the percentage of inhibited proteins.\n",
    "\n",
    "Oftentimes, XC$_{50}$ and Ki values are converted to the negative logarithmic scale. This is denoted by the letter \"*p*\" in front of the activity type. This operation reduces the impact of extremely high values. After this transformation, higher values correspond to stronger activity.\n",
    "\n",
    "For example, pIC$_{50}$ = $-\\log_{10} $ IC$_{50}$.\n",
    "\n",
    "\n",
    "## ADMET\n",
    "\n",
    "There are myriads of chemical properties that can be measured to ensure the success of our molecule. Depending on the drug target, we might want to optimize different ADMET properties. If our drug needs to work in the central nervous system, we need to check the **blood-brain barrier permeability**. Other drugs that are administered orally need to **absorbed in the intestine**. Our molecule needs to be **metabolically stable**, which means it is not metabolized before it reaches its destination. On the other hand, we need to make sure it is finally metabolized and does not accumulate in the organism. Eventually, drugs can not be **toxic** or induce any serious side effects by interacting with other biological targets (**off-targets**). This is a difficult property to optimize as toxicity is a non-specific property - there are many possible interactions that can cause toxicity, e.g. **hERG inhibition** leads to severe cardiotoxicity (blocked potassium ion channels will cause heart failure)."
   ]
  },
  {
   "cell_type": "markdown",
   "id": "48922344",
   "metadata": {},
   "source": [
    "# ChEMBL\n",
    "\n",
    "[ChEMBL](https://www.ebi.ac.uk/chembl/) is a public database of bioactive compounds. The experimentally measured data points are gathered here and they can be used to train machine learning models. It should be noted that this database is manually curated, and the data is pulled from publications and patents. The quality of this data is not always perfect, and the same compound can have multiple drastically different activity values depending on the site the experiments were conducted in. Sometimes these values can contain errors, either caused by humans or incorrect parsing of source documents.\n",
    "\n",
    "![assay](https://upload.wikimedia.org/wikipedia/commons/thumb/a/a0/96_well_plate.jpg/1599px-96_well_plate.jpg)"
   ]
  },
  {
   "cell_type": "markdown",
   "id": "7c10da50",
   "metadata": {},
   "source": [
    "Activity data extracted from ChEMBL can be used to train ML models. Because we use the structural information (fingerprints or molecular graphs), these models are also called **QSAR models**, where QSAR stands for Quantitative Structure-Activity Relationship."
   ]
  },
  {
   "cell_type": "markdown",
   "id": "fca4ef60",
   "metadata": {},
   "source": [
    "**Exercise 1.** Choose one of the targets below and download activity data for this target from ChEMBL. Use one of the activity types (e.g. Ki or IC$_{50}$) to train an ML model. Split the data and print the results of evaluation on the testing set.\n",
    "\n",
    "- MAO-B (monoamine oxidase B) - its inhibitors can be used to treat symptoms of Parkinson's disease\n",
    "- ACE2 (angiotensin-converting enzyme 2) - serves as an entry point for SARS-CoV-2\n",
    "- COX-2 (cyclooxygenase 2) - the taget of non-steroidal anti-inflammatory drugs\n",
    "- 5-HT3 (serotonin receptor 3) - common target of antiemetics (drugs against vomiting nad nausea)\n",
    "- hERG - potassium ion channel that is often connected to cardiotoxicity (when inhibited)"
   ]
  },
  {
   "cell_type": "code",
   "execution_count": 28,
   "id": "643593fc",
   "metadata": {},
   "outputs": [],
   "source": [
    "import pandas as pd\n",
    "import matplotlib.pyplot as plt\n",
    "import numpy as np\n",
    "import matplotlib.pyplot as plt\n",
    "from rdkit import Chem, DataStructs\n",
    "from sklearn.model_selection import train_test_split\n",
    "from sklearn.neural_network import MLPRegressor\n",
    "from sklearn.ensemble import RandomForestRegressor\n",
    "from sklearn.svm import SVR\n",
    "from rdkit import Chem\n",
    "from rdkit.Chem import AllChem\n",
    "from rdkit.Chem import AllChem, MACCSkeys\n",
    "from rdkit.Chem.AtomPairs import Pairs, Torsions\n",
    "from tdc import Evaluator\n",
    "import math"
   ]
  },
  {
   "cell_type": "code",
   "execution_count": 3,
   "id": "4dac5ae8",
   "metadata": {},
   "outputs": [
    {
     "data": {
      "text/html": [
       "<div>\n",
       "<style scoped>\n",
       "    .dataframe tbody tr th:only-of-type {\n",
       "        vertical-align: middle;\n",
       "    }\n",
       "\n",
       "    .dataframe tbody tr th {\n",
       "        vertical-align: top;\n",
       "    }\n",
       "\n",
       "    .dataframe thead th {\n",
       "        text-align: right;\n",
       "    }\n",
       "</style>\n",
       "<table border=\"1\" class=\"dataframe\">\n",
       "  <thead>\n",
       "    <tr style=\"text-align: right;\">\n",
       "      <th></th>\n",
       "      <th>Molecule ChEMBL ID</th>\n",
       "      <th>Molecule Name</th>\n",
       "      <th>Molecule Max Phase</th>\n",
       "      <th>Molecular Weight</th>\n",
       "      <th>#RO5 Violations</th>\n",
       "      <th>AlogP</th>\n",
       "      <th>Compound Key</th>\n",
       "      <th>Smiles</th>\n",
       "      <th>Standard Type</th>\n",
       "      <th>Standard Relation</th>\n",
       "      <th>Standard Value</th>\n",
       "      <th>Standard Units</th>\n",
       "      <th>pChEMBL Value</th>\n",
       "      <th>Data Validity Comment</th>\n",
       "      <th>Comment</th>\n",
       "      <th>Uo Units</th>\n",
       "      <th>Ligand Efficiency BEI</th>\n",
       "      <th>Ligand Efficiency LE</th>\n",
       "      <th>Ligand Efficiency LLE</th>\n",
       "      <th>Ligand Efficiency SEI</th>\n",
       "      <th>Potential Duplicate</th>\n",
       "      <th>Assay ChEMBL ID</th>\n",
       "      <th>Assay Description</th>\n",
       "      <th>Assay Type</th>\n",
       "      <th>BAO Format ID</th>\n",
       "      <th>BAO Label</th>\n",
       "      <th>Assay Organism</th>\n",
       "      <th>Assay Tissue ChEMBL ID</th>\n",
       "      <th>Assay Tissue Name</th>\n",
       "      <th>Assay Cell Type</th>\n",
       "      <th>Assay Subcellular Fraction</th>\n",
       "      <th>Assay Parameters</th>\n",
       "      <th>Assay Variant Accession</th>\n",
       "      <th>Assay Variant Mutation</th>\n",
       "      <th>Target ChEMBL ID</th>\n",
       "      <th>Target Name</th>\n",
       "      <th>Target Organism</th>\n",
       "      <th>Target Type</th>\n",
       "      <th>Document ChEMBL ID</th>\n",
       "      <th>Source ID</th>\n",
       "      <th>Source Description</th>\n",
       "      <th>Document Journal</th>\n",
       "      <th>Document Year</th>\n",
       "      <th>Cell ChEMBL ID</th>\n",
       "      <th>Properties</th>\n",
       "    </tr>\n",
       "  </thead>\n",
       "  <tbody>\n",
       "    <tr>\n",
       "      <th>0</th>\n",
       "      <td>CHEMBL341071</td>\n",
       "      <td>NaN</td>\n",
       "      <td>None</td>\n",
       "      <td>196.21</td>\n",
       "      <td>0</td>\n",
       "      <td>2.00</td>\n",
       "      <td>10</td>\n",
       "      <td>Cc1cc2c(nn1)-c1ccccc1C2=O</td>\n",
       "      <td>IC50</td>\n",
       "      <td>'='</td>\n",
       "      <td>130.00</td>\n",
       "      <td>nM</td>\n",
       "      <td>6.89</td>\n",
       "      <td>NaN</td>\n",
       "      <td>NaN</td>\n",
       "      <td>UO_0000065</td>\n",
       "      <td>35.10</td>\n",
       "      <td>0.63</td>\n",
       "      <td>4.89</td>\n",
       "      <td>16.07</td>\n",
       "      <td>0</td>\n",
       "      <td>CHEMBL734178</td>\n",
       "      <td>Inhibitory concentration against Monoamine oxi...</td>\n",
       "      <td>B</td>\n",
       "      <td>BAO_0000357</td>\n",
       "      <td>single protein format</td>\n",
       "      <td>Papio hamadryas</td>\n",
       "      <td>None</td>\n",
       "      <td>None</td>\n",
       "      <td>None</td>\n",
       "      <td>None</td>\n",
       "      <td>NaN</td>\n",
       "      <td>NaN</td>\n",
       "      <td>NaN</td>\n",
       "      <td>CHEMBL2039</td>\n",
       "      <td>Monoamine oxidase B</td>\n",
       "      <td>Homo sapiens</td>\n",
       "      <td>SINGLE PROTEIN</td>\n",
       "      <td>CHEMBL1136363</td>\n",
       "      <td>1</td>\n",
       "      <td>Scientific Literature</td>\n",
       "      <td>Bioorg Med Chem Lett</td>\n",
       "      <td>2003.0</td>\n",
       "      <td>None</td>\n",
       "      <td>NaN</td>\n",
       "    </tr>\n",
       "    <tr>\n",
       "      <th>1</th>\n",
       "      <td>CHEMBL4111335</td>\n",
       "      <td>NaN</td>\n",
       "      <td>None</td>\n",
       "      <td>337.47</td>\n",
       "      <td>0</td>\n",
       "      <td>3.38</td>\n",
       "      <td>BDBM254597</td>\n",
       "      <td>NC1CCC(N[C@H]2C[C@@H]2c2ccc(OCc3cccnc3)cc2)CC1</td>\n",
       "      <td>IC50</td>\n",
       "      <td>'&gt;'</td>\n",
       "      <td>50000.00</td>\n",
       "      <td>nM</td>\n",
       "      <td>NaN</td>\n",
       "      <td>NaN</td>\n",
       "      <td>443212</td>\n",
       "      <td>UO_0000065</td>\n",
       "      <td>NaN</td>\n",
       "      <td>NaN</td>\n",
       "      <td>NaN</td>\n",
       "      <td>NaN</td>\n",
       "      <td>0</td>\n",
       "      <td>CHEMBL3887028</td>\n",
       "      <td>Fluorescence-Based (Inhibitor)-Screening Assay...</td>\n",
       "      <td>B</td>\n",
       "      <td>BAO_0000357</td>\n",
       "      <td>single protein format</td>\n",
       "      <td>Homo sapiens</td>\n",
       "      <td>None</td>\n",
       "      <td>None</td>\n",
       "      <td>None</td>\n",
       "      <td>None</td>\n",
       "      <td>NaN</td>\n",
       "      <td>NaN</td>\n",
       "      <td>NaN</td>\n",
       "      <td>CHEMBL2039</td>\n",
       "      <td>Monoamine oxidase B</td>\n",
       "      <td>Homo sapiens</td>\n",
       "      <td>SINGLE PROTEIN</td>\n",
       "      <td>CHEMBL3886143</td>\n",
       "      <td>37</td>\n",
       "      <td>BindingDB Database</td>\n",
       "      <td>NaN</td>\n",
       "      <td>2016.0</td>\n",
       "      <td>None</td>\n",
       "      <td>NaN</td>\n",
       "    </tr>\n",
       "    <tr>\n",
       "      <th>2</th>\n",
       "      <td>CHEMBL4474002</td>\n",
       "      <td>NaN</td>\n",
       "      <td>None</td>\n",
       "      <td>353.80</td>\n",
       "      <td>0</td>\n",
       "      <td>1.71</td>\n",
       "      <td>25</td>\n",
       "      <td>Cc1cc(O)cc2oc(=O)c(C(=O)CCN3CCOCC3)cc12.Cl</td>\n",
       "      <td>IC50</td>\n",
       "      <td>'='</td>\n",
       "      <td>35980.00</td>\n",
       "      <td>nM</td>\n",
       "      <td>4.44</td>\n",
       "      <td>NaN</td>\n",
       "      <td>NaN</td>\n",
       "      <td>UO_0000065</td>\n",
       "      <td>14.00</td>\n",
       "      <td>0.26</td>\n",
       "      <td>2.73</td>\n",
       "      <td>5.56</td>\n",
       "      <td>0</td>\n",
       "      <td>CHEMBL4349201</td>\n",
       "      <td>Inhibition of recombinant human MAO-B expresse...</td>\n",
       "      <td>B</td>\n",
       "      <td>BAO_0000219</td>\n",
       "      <td>cell-based format</td>\n",
       "      <td>Homo sapiens</td>\n",
       "      <td>None</td>\n",
       "      <td>None</td>\n",
       "      <td>None</td>\n",
       "      <td>None</td>\n",
       "      <td>NaN</td>\n",
       "      <td>NaN</td>\n",
       "      <td>NaN</td>\n",
       "      <td>CHEMBL2039</td>\n",
       "      <td>Monoamine oxidase B</td>\n",
       "      <td>Homo sapiens</td>\n",
       "      <td>SINGLE PROTEIN</td>\n",
       "      <td>CHEMBL4346711</td>\n",
       "      <td>1</td>\n",
       "      <td>Scientific Literature</td>\n",
       "      <td>Eur J Med Chem</td>\n",
       "      <td>2019.0</td>\n",
       "      <td>None</td>\n",
       "      <td>NaN</td>\n",
       "    </tr>\n",
       "    <tr>\n",
       "      <th>3</th>\n",
       "      <td>CHEMBL4550005</td>\n",
       "      <td>NaN</td>\n",
       "      <td>None</td>\n",
       "      <td>337.80</td>\n",
       "      <td>0</td>\n",
       "      <td>2.48</td>\n",
       "      <td>27</td>\n",
       "      <td>Cc1cc(O)cc2oc(=O)c(C(=O)CCN3CCCC3)cc12.Cl</td>\n",
       "      <td>IC50</td>\n",
       "      <td>'='</td>\n",
       "      <td>43670.00</td>\n",
       "      <td>nM</td>\n",
       "      <td>4.36</td>\n",
       "      <td>NaN</td>\n",
       "      <td>NaN</td>\n",
       "      <td>UO_0000065</td>\n",
       "      <td>14.47</td>\n",
       "      <td>0.27</td>\n",
       "      <td>1.88</td>\n",
       "      <td>6.16</td>\n",
       "      <td>0</td>\n",
       "      <td>CHEMBL4349201</td>\n",
       "      <td>Inhibition of recombinant human MAO-B expresse...</td>\n",
       "      <td>B</td>\n",
       "      <td>BAO_0000219</td>\n",
       "      <td>cell-based format</td>\n",
       "      <td>Homo sapiens</td>\n",
       "      <td>None</td>\n",
       "      <td>None</td>\n",
       "      <td>None</td>\n",
       "      <td>None</td>\n",
       "      <td>NaN</td>\n",
       "      <td>NaN</td>\n",
       "      <td>NaN</td>\n",
       "      <td>CHEMBL2039</td>\n",
       "      <td>Monoamine oxidase B</td>\n",
       "      <td>Homo sapiens</td>\n",
       "      <td>SINGLE PROTEIN</td>\n",
       "      <td>CHEMBL4346711</td>\n",
       "      <td>1</td>\n",
       "      <td>Scientific Literature</td>\n",
       "      <td>Eur J Med Chem</td>\n",
       "      <td>2019.0</td>\n",
       "      <td>None</td>\n",
       "      <td>NaN</td>\n",
       "    </tr>\n",
       "    <tr>\n",
       "      <th>4</th>\n",
       "      <td>CHEMBL4567537</td>\n",
       "      <td>NaN</td>\n",
       "      <td>None</td>\n",
       "      <td>273.70</td>\n",
       "      <td>0</td>\n",
       "      <td>4.11</td>\n",
       "      <td>19</td>\n",
       "      <td>Fc1cc(/N=C/c2ccc3[nH]ncc3c2)ccc1Cl</td>\n",
       "      <td>IC50</td>\n",
       "      <td>'='</td>\n",
       "      <td>1.91</td>\n",
       "      <td>nM</td>\n",
       "      <td>8.72</td>\n",
       "      <td>NaN</td>\n",
       "      <td>NaN</td>\n",
       "      <td>UO_0000065</td>\n",
       "      <td>31.86</td>\n",
       "      <td>0.63</td>\n",
       "      <td>4.61</td>\n",
       "      <td>21.25</td>\n",
       "      <td>0</td>\n",
       "      <td>CHEMBL4354288</td>\n",
       "      <td>Inhibition of human recombinant MAO-B expresse...</td>\n",
       "      <td>B</td>\n",
       "      <td>BAO_0000219</td>\n",
       "      <td>cell-based format</td>\n",
       "      <td>Homo sapiens</td>\n",
       "      <td>None</td>\n",
       "      <td>None</td>\n",
       "      <td>BTI-TN-5B1-4</td>\n",
       "      <td>None</td>\n",
       "      <td>NaN</td>\n",
       "      <td>NaN</td>\n",
       "      <td>NaN</td>\n",
       "      <td>CHEMBL2039</td>\n",
       "      <td>Monoamine oxidase B</td>\n",
       "      <td>Homo sapiens</td>\n",
       "      <td>SINGLE PROTEIN</td>\n",
       "      <td>CHEMBL4351013</td>\n",
       "      <td>1</td>\n",
       "      <td>Scientific Literature</td>\n",
       "      <td>Eur J Med Chem</td>\n",
       "      <td>2019.0</td>\n",
       "      <td>CHEMBL3833782</td>\n",
       "      <td>NaN</td>\n",
       "    </tr>\n",
       "  </tbody>\n",
       "</table>\n",
       "</div>"
      ],
      "text/plain": [
       "  Molecule ChEMBL ID Molecule Name Molecule Max Phase  Molecular Weight  \\\n",
       "0       CHEMBL341071           NaN               None            196.21   \n",
       "1      CHEMBL4111335           NaN               None            337.47   \n",
       "2      CHEMBL4474002           NaN               None            353.80   \n",
       "3      CHEMBL4550005           NaN               None            337.80   \n",
       "4      CHEMBL4567537           NaN               None            273.70   \n",
       "\n",
       "  #RO5 Violations AlogP Compound Key  \\\n",
       "0               0  2.00           10   \n",
       "1               0  3.38   BDBM254597   \n",
       "2               0  1.71           25   \n",
       "3               0  2.48           27   \n",
       "4               0  4.11           19   \n",
       "\n",
       "                                           Smiles Standard Type  \\\n",
       "0                       Cc1cc2c(nn1)-c1ccccc1C2=O          IC50   \n",
       "1  NC1CCC(N[C@H]2C[C@@H]2c2ccc(OCc3cccnc3)cc2)CC1          IC50   \n",
       "2      Cc1cc(O)cc2oc(=O)c(C(=O)CCN3CCOCC3)cc12.Cl          IC50   \n",
       "3       Cc1cc(O)cc2oc(=O)c(C(=O)CCN3CCCC3)cc12.Cl          IC50   \n",
       "4              Fc1cc(/N=C/c2ccc3[nH]ncc3c2)ccc1Cl          IC50   \n",
       "\n",
       "  Standard Relation  Standard Value Standard Units  pChEMBL Value  \\\n",
       "0               '='          130.00             nM           6.89   \n",
       "1               '>'        50000.00             nM            NaN   \n",
       "2               '='        35980.00             nM           4.44   \n",
       "3               '='        43670.00             nM           4.36   \n",
       "4               '='            1.91             nM           8.72   \n",
       "\n",
       "  Data Validity Comment Comment    Uo Units  Ligand Efficiency BEI  \\\n",
       "0                   NaN     NaN  UO_0000065                  35.10   \n",
       "1                   NaN  443212  UO_0000065                    NaN   \n",
       "2                   NaN     NaN  UO_0000065                  14.00   \n",
       "3                   NaN     NaN  UO_0000065                  14.47   \n",
       "4                   NaN     NaN  UO_0000065                  31.86   \n",
       "\n",
       "  Ligand Efficiency LE Ligand Efficiency LLE Ligand Efficiency SEI  \\\n",
       "0                 0.63                  4.89                 16.07   \n",
       "1                  NaN                   NaN                   NaN   \n",
       "2                 0.26                  2.73                  5.56   \n",
       "3                 0.27                  1.88                  6.16   \n",
       "4                 0.63                  4.61                 21.25   \n",
       "\n",
       "   Potential Duplicate Assay ChEMBL ID  \\\n",
       "0                    0    CHEMBL734178   \n",
       "1                    0   CHEMBL3887028   \n",
       "2                    0   CHEMBL4349201   \n",
       "3                    0   CHEMBL4349201   \n",
       "4                    0   CHEMBL4354288   \n",
       "\n",
       "                                   Assay Description Assay Type BAO Format ID  \\\n",
       "0  Inhibitory concentration against Monoamine oxi...          B   BAO_0000357   \n",
       "1  Fluorescence-Based (Inhibitor)-Screening Assay...          B   BAO_0000357   \n",
       "2  Inhibition of recombinant human MAO-B expresse...          B   BAO_0000219   \n",
       "3  Inhibition of recombinant human MAO-B expresse...          B   BAO_0000219   \n",
       "4  Inhibition of human recombinant MAO-B expresse...          B   BAO_0000219   \n",
       "\n",
       "               BAO Label   Assay Organism Assay Tissue ChEMBL ID  \\\n",
       "0  single protein format  Papio hamadryas                   None   \n",
       "1  single protein format     Homo sapiens                   None   \n",
       "2      cell-based format     Homo sapiens                   None   \n",
       "3      cell-based format     Homo sapiens                   None   \n",
       "4      cell-based format     Homo sapiens                   None   \n",
       "\n",
       "  Assay Tissue Name Assay Cell Type Assay Subcellular Fraction  \\\n",
       "0              None            None                       None   \n",
       "1              None            None                       None   \n",
       "2              None            None                       None   \n",
       "3              None            None                       None   \n",
       "4              None    BTI-TN-5B1-4                       None   \n",
       "\n",
       "  Assay Parameters  Assay Variant Accession  Assay Variant Mutation  \\\n",
       "0              NaN                      NaN                     NaN   \n",
       "1              NaN                      NaN                     NaN   \n",
       "2              NaN                      NaN                     NaN   \n",
       "3              NaN                      NaN                     NaN   \n",
       "4              NaN                      NaN                     NaN   \n",
       "\n",
       "  Target ChEMBL ID          Target Name Target Organism     Target Type  \\\n",
       "0       CHEMBL2039  Monoamine oxidase B    Homo sapiens  SINGLE PROTEIN   \n",
       "1       CHEMBL2039  Monoamine oxidase B    Homo sapiens  SINGLE PROTEIN   \n",
       "2       CHEMBL2039  Monoamine oxidase B    Homo sapiens  SINGLE PROTEIN   \n",
       "3       CHEMBL2039  Monoamine oxidase B    Homo sapiens  SINGLE PROTEIN   \n",
       "4       CHEMBL2039  Monoamine oxidase B    Homo sapiens  SINGLE PROTEIN   \n",
       "\n",
       "  Document ChEMBL ID  Source ID     Source Description      Document Journal  \\\n",
       "0      CHEMBL1136363          1  Scientific Literature  Bioorg Med Chem Lett   \n",
       "1      CHEMBL3886143         37     BindingDB Database                   NaN   \n",
       "2      CHEMBL4346711          1  Scientific Literature        Eur J Med Chem   \n",
       "3      CHEMBL4346711          1  Scientific Literature        Eur J Med Chem   \n",
       "4      CHEMBL4351013          1  Scientific Literature        Eur J Med Chem   \n",
       "\n",
       "   Document Year Cell ChEMBL ID Properties  \n",
       "0         2003.0           None        NaN  \n",
       "1         2016.0           None        NaN  \n",
       "2         2019.0           None        NaN  \n",
       "3         2019.0           None        NaN  \n",
       "4         2019.0  CHEMBL3833782        NaN  "
      ]
     },
     "execution_count": 3,
     "metadata": {},
     "output_type": "execute_result"
    }
   ],
   "source": [
    "pd.set_option('display.max_columns', None)\n",
    "data_path = \"mao-b.csv\" \n",
    "df = pd.read_csv(data_path, sep=';')\n",
    "df.head()"
   ]
  },
  {
   "cell_type": "code",
   "execution_count": 4,
   "id": "9182e4f9",
   "metadata": {},
   "outputs": [
    {
     "data": {
      "text/html": [
       "<div>\n",
       "<style scoped>\n",
       "    .dataframe tbody tr th:only-of-type {\n",
       "        vertical-align: middle;\n",
       "    }\n",
       "\n",
       "    .dataframe tbody tr th {\n",
       "        vertical-align: top;\n",
       "    }\n",
       "\n",
       "    .dataframe thead th {\n",
       "        text-align: right;\n",
       "    }\n",
       "</style>\n",
       "<table border=\"1\" class=\"dataframe\">\n",
       "  <thead>\n",
       "    <tr style=\"text-align: right;\">\n",
       "      <th></th>\n",
       "      <th>Molecule ChEMBL ID</th>\n",
       "      <th>Molecule Name</th>\n",
       "      <th>Molecular Weight</th>\n",
       "      <th>#RO5 Violations</th>\n",
       "      <th>Smiles</th>\n",
       "      <th>Standard Value</th>\n",
       "      <th>Standard Units</th>\n",
       "      <th>pChEMBL Value</th>\n",
       "      <th>Document Year</th>\n",
       "    </tr>\n",
       "  </thead>\n",
       "  <tbody>\n",
       "    <tr>\n",
       "      <th>0</th>\n",
       "      <td>CHEMBL341071</td>\n",
       "      <td>NaN</td>\n",
       "      <td>196.21</td>\n",
       "      <td>0</td>\n",
       "      <td>Cc1cc2c(nn1)-c1ccccc1C2=O</td>\n",
       "      <td>130.00</td>\n",
       "      <td>nM</td>\n",
       "      <td>6.89</td>\n",
       "      <td>2003.0</td>\n",
       "    </tr>\n",
       "    <tr>\n",
       "      <th>2</th>\n",
       "      <td>CHEMBL4474002</td>\n",
       "      <td>NaN</td>\n",
       "      <td>353.80</td>\n",
       "      <td>0</td>\n",
       "      <td>Cc1cc(O)cc2oc(=O)c(C(=O)CCN3CCOCC3)cc12.Cl</td>\n",
       "      <td>35980.00</td>\n",
       "      <td>nM</td>\n",
       "      <td>4.44</td>\n",
       "      <td>2019.0</td>\n",
       "    </tr>\n",
       "    <tr>\n",
       "      <th>3</th>\n",
       "      <td>CHEMBL4550005</td>\n",
       "      <td>NaN</td>\n",
       "      <td>337.80</td>\n",
       "      <td>0</td>\n",
       "      <td>Cc1cc(O)cc2oc(=O)c(C(=O)CCN3CCCC3)cc12.Cl</td>\n",
       "      <td>43670.00</td>\n",
       "      <td>nM</td>\n",
       "      <td>4.36</td>\n",
       "      <td>2019.0</td>\n",
       "    </tr>\n",
       "    <tr>\n",
       "      <th>4</th>\n",
       "      <td>CHEMBL4567537</td>\n",
       "      <td>NaN</td>\n",
       "      <td>273.70</td>\n",
       "      <td>0</td>\n",
       "      <td>Fc1cc(/N=C/c2ccc3[nH]ncc3c2)ccc1Cl</td>\n",
       "      <td>1.91</td>\n",
       "      <td>nM</td>\n",
       "      <td>8.72</td>\n",
       "      <td>2019.0</td>\n",
       "    </tr>\n",
       "    <tr>\n",
       "      <th>5</th>\n",
       "      <td>CHEMBL3742068</td>\n",
       "      <td>NaN</td>\n",
       "      <td>272.27</td>\n",
       "      <td>0</td>\n",
       "      <td>O=C1CCOc2cc(OCc3ccccc3F)ccc21</td>\n",
       "      <td>58.82</td>\n",
       "      <td>nM</td>\n",
       "      <td>7.23</td>\n",
       "      <td>2015.0</td>\n",
       "    </tr>\n",
       "    <tr>\n",
       "      <th>...</th>\n",
       "      <td>...</td>\n",
       "      <td>...</td>\n",
       "      <td>...</td>\n",
       "      <td>...</td>\n",
       "      <td>...</td>\n",
       "      <td>...</td>\n",
       "      <td>...</td>\n",
       "      <td>...</td>\n",
       "      <td>...</td>\n",
       "    </tr>\n",
       "    <tr>\n",
       "      <th>5313</th>\n",
       "      <td>CHEMBL5072382</td>\n",
       "      <td>NaN</td>\n",
       "      <td>379.45</td>\n",
       "      <td>0</td>\n",
       "      <td>Cc1c(C)c2ccc(OCC3CCCN(CCCC(F)F)C3)cc2oc1=O</td>\n",
       "      <td>260.00</td>\n",
       "      <td>nM</td>\n",
       "      <td>6.58</td>\n",
       "      <td>2022.0</td>\n",
       "    </tr>\n",
       "    <tr>\n",
       "      <th>5314</th>\n",
       "      <td>CHEMBL5083014</td>\n",
       "      <td>NaN</td>\n",
       "      <td>395.47</td>\n",
       "      <td>0</td>\n",
       "      <td>Cc1c(C)c2ccc(OCC3CCCN(Cc4cccc(F)c4)C3)cc2oc1=O</td>\n",
       "      <td>12.00</td>\n",
       "      <td>nM</td>\n",
       "      <td>7.92</td>\n",
       "      <td>2022.0</td>\n",
       "    </tr>\n",
       "    <tr>\n",
       "      <th>5315</th>\n",
       "      <td>CHEMBL4866427</td>\n",
       "      <td>NaN</td>\n",
       "      <td>375.46</td>\n",
       "      <td>1</td>\n",
       "      <td>C#CCNC1CCc2c(SCCc3ccc(C(F)(F)F)cc3)cccc21</td>\n",
       "      <td>8780.00</td>\n",
       "      <td>nM</td>\n",
       "      <td>5.06</td>\n",
       "      <td>2021.0</td>\n",
       "    </tr>\n",
       "    <tr>\n",
       "      <th>5316</th>\n",
       "      <td>CHEMBL4877043</td>\n",
       "      <td>NaN</td>\n",
       "      <td>375.46</td>\n",
       "      <td>1</td>\n",
       "      <td>C#CCNC1CCc2c(SCCc3cccc(C(F)(F)F)c3)cccc21</td>\n",
       "      <td>3720.00</td>\n",
       "      <td>nM</td>\n",
       "      <td>5.43</td>\n",
       "      <td>2021.0</td>\n",
       "    </tr>\n",
       "    <tr>\n",
       "      <th>5317</th>\n",
       "      <td>CHEMBL4878916</td>\n",
       "      <td>NaN</td>\n",
       "      <td>322.19</td>\n",
       "      <td>0</td>\n",
       "      <td>O=C(Nc1ccc(Cl)c(Cl)c1)C1COc2ccccc2C1</td>\n",
       "      <td>78.80</td>\n",
       "      <td>nM</td>\n",
       "      <td>7.10</td>\n",
       "      <td>2021.0</td>\n",
       "    </tr>\n",
       "  </tbody>\n",
       "</table>\n",
       "<p>4415 rows × 9 columns</p>\n",
       "</div>"
      ],
      "text/plain": [
       "     Molecule ChEMBL ID Molecule Name  Molecular Weight #RO5 Violations  \\\n",
       "0          CHEMBL341071           NaN            196.21               0   \n",
       "2         CHEMBL4474002           NaN            353.80               0   \n",
       "3         CHEMBL4550005           NaN            337.80               0   \n",
       "4         CHEMBL4567537           NaN            273.70               0   \n",
       "5         CHEMBL3742068           NaN            272.27               0   \n",
       "...                 ...           ...               ...             ...   \n",
       "5313      CHEMBL5072382           NaN            379.45               0   \n",
       "5314      CHEMBL5083014           NaN            395.47               0   \n",
       "5315      CHEMBL4866427           NaN            375.46               1   \n",
       "5316      CHEMBL4877043           NaN            375.46               1   \n",
       "5317      CHEMBL4878916           NaN            322.19               0   \n",
       "\n",
       "                                              Smiles  Standard Value  \\\n",
       "0                          Cc1cc2c(nn1)-c1ccccc1C2=O          130.00   \n",
       "2         Cc1cc(O)cc2oc(=O)c(C(=O)CCN3CCOCC3)cc12.Cl        35980.00   \n",
       "3          Cc1cc(O)cc2oc(=O)c(C(=O)CCN3CCCC3)cc12.Cl        43670.00   \n",
       "4                 Fc1cc(/N=C/c2ccc3[nH]ncc3c2)ccc1Cl            1.91   \n",
       "5                      O=C1CCOc2cc(OCc3ccccc3F)ccc21           58.82   \n",
       "...                                              ...             ...   \n",
       "5313      Cc1c(C)c2ccc(OCC3CCCN(CCCC(F)F)C3)cc2oc1=O          260.00   \n",
       "5314  Cc1c(C)c2ccc(OCC3CCCN(Cc4cccc(F)c4)C3)cc2oc1=O           12.00   \n",
       "5315       C#CCNC1CCc2c(SCCc3ccc(C(F)(F)F)cc3)cccc21         8780.00   \n",
       "5316       C#CCNC1CCc2c(SCCc3cccc(C(F)(F)F)c3)cccc21         3720.00   \n",
       "5317            O=C(Nc1ccc(Cl)c(Cl)c1)C1COc2ccccc2C1           78.80   \n",
       "\n",
       "     Standard Units  pChEMBL Value  Document Year  \n",
       "0                nM           6.89         2003.0  \n",
       "2                nM           4.44         2019.0  \n",
       "3                nM           4.36         2019.0  \n",
       "4                nM           8.72         2019.0  \n",
       "5                nM           7.23         2015.0  \n",
       "...             ...            ...            ...  \n",
       "5313             nM           6.58         2022.0  \n",
       "5314             nM           7.92         2022.0  \n",
       "5315             nM           5.06         2021.0  \n",
       "5316             nM           5.43         2021.0  \n",
       "5317             nM           7.10         2021.0  \n",
       "\n",
       "[4415 rows x 9 columns]"
      ]
     },
     "execution_count": 4,
     "metadata": {},
     "output_type": "execute_result"
    }
   ],
   "source": [
    "activity_type = 'IC50'  \n",
    "relevant_columns = ['Molecule ChEMBL ID', 'Molecule Name', 'Molecular Weight', '#RO5 Violations', 'Smiles',\n",
    "                    'Standard Value', 'Standard Units', 'pChEMBL Value', 'Document Year']\n",
    "df = df[(df['Standard Type'] == activity_type) & (df['Standard Relation'].str.contains('='))][relevant_columns]\n",
    "df"
   ]
  },
  {
   "cell_type": "code",
   "execution_count": 5,
   "id": "0ca06a54",
   "metadata": {},
   "outputs": [
    {
     "data": {
      "text/plain": [
       "(3532, 883)"
      ]
     },
     "execution_count": 5,
     "metadata": {},
     "output_type": "execute_result"
    }
   ],
   "source": [
    "df_train, df_test = train_test_split(df, test_size=0.2)\n",
    "len(df_train), len(df_test)"
   ]
  },
  {
   "cell_type": "code",
   "execution_count": 9,
   "id": "ef4581a3",
   "metadata": {},
   "outputs": [],
   "source": [
    "class Featurizer():\n",
    "    def __init__(self, radius=2, length=2048, use_logarithm=False, **kwargs):\n",
    "        self.radius = radius\n",
    "        self.length = length\n",
    "        self.use_logarithm = use_logarithm\n",
    "    \n",
    "    def __call__(self, df):\n",
    "        fingerprints = []\n",
    "        labels = []\n",
    "        for i, row in df.iterrows():\n",
    "            y = row['Standard Value']\n",
    "            smiles = row['Smiles']\n",
    "            mol = Chem.MolFromSmiles(smiles)\n",
    "            fp = AllChem.GetMorganFingerprintAsBitVect(mol, self.radius, nBits=self.length)\n",
    "            # Other fingerprints I tried; didn't seem better\n",
    "            # fp = Chem.RDKFingerprint(mol)\n",
    "            # fp = MACCSkeys.GenMACCSKeys(mol)\n",
    "            label = y if not self.use_logarithm else -math.log10(y)\n",
    "            fingerprints.append(fp)\n",
    "            labels.append(label)\n",
    "        fingerprints = np.array(fingerprints)\n",
    "        labels = np.array(labels)\n",
    "        return fingerprints, labels\n",
    "\n",
    "featurizer = Featurizer()\n",
    "X_train, y_train = featurizer(df_train)\n",
    "X_test, y_test = featurizer(df_test)"
   ]
  },
  {
   "cell_type": "code",
   "execution_count": 13,
   "id": "a751a98c",
   "metadata": {},
   "outputs": [
    {
     "name": "stdout",
     "output_type": "stream",
     "text": [
      "RMSE, MAE, R2 = 2028993.0717632452, 187534.78187512758, -2.7518465482995267\n"
     ]
    }
   ],
   "source": [
    "model = RandomForestRegressor().fit(X_train, y_train)\n",
    "# model = MLPRegressor(hidden_layer_sizes=(120,30), activation='relu').fit(X_train, y_train)\n",
    "\n",
    "rmse = Evaluator(name = 'RMSE')\n",
    "mae = Evaluator(name = 'MAE')\n",
    "r_squared = Evaluator(name = 'R2')\n",
    "predictions = model.predict(X_test)\n",
    "rmse_score = rmse(y_test, predictions)\n",
    "mae_score = mae(y_test, predictions)\n",
    "r2_score = r_squared(y_test, predictions)\n",
    "print(f'RMSE, MAE, R2 = {rmse_score}, {mae_score}, {r2_score}')"
   ]
  },
  {
   "cell_type": "markdown",
   "id": "f990a5cb",
   "metadata": {},
   "source": [
    "I find those visualisations helpful (log scale was necessary due to the large variance of IC50 values)\n",
    "We see the task is hard for the model."
   ]
  },
  {
   "cell_type": "code",
   "execution_count": 17,
   "id": "a2cfe038",
   "metadata": {},
   "outputs": [
    {
     "data": {
      "image/png": "[encoded data removed]",
      "text/plain": [
       "<Figure size 640x480 with 1 Axes>"
      ]
     },
     "metadata": {},
     "output_type": "display_data"
    },
    {
     "name": "stdout",
     "output_type": "stream",
     "text": [
      "2195.6  15328.739239523802\n",
      "58310.0  65729.25333333333\n",
      "59.0  1348.44\n",
      "68200.0  30164730.18171\n",
      "20892961.31  34343.447511666665\n",
      "125.89  29686.145310000004\n",
      "518.0  1253.832658730159\n",
      "460.0  919.3766\n",
      "5780.0  7928.762699999999\n",
      "1500.0  5018.4535\n"
     ]
    }
   ],
   "source": [
    "predictions = model.predict(X_test)\n",
    "plt.scatter(np.log(y_test), np.log(predictions))\n",
    "plt.show()\n",
    "for i in range(10):\n",
    "    print(f'{y_test[i]}  {predictions[i]}')"
   ]
  },
  {
   "cell_type": "markdown",
   "id": "79b84d43",
   "metadata": {},
   "source": [
    "**(optional) Excercise 1.1.** *(advanced data splitting methods)*\n",
    "\n",
    "You might be surprised how good results you can achieve using a random data split. The model performance measured this way can be misleading as ChEMBL contains many similar compounds, series of compounds containing the same scaffold, or even duplicated records. Thus, a better form of evaluation would be to employ a more advanced splitting method, e.g. **scaffold-based split** in which all compounds containing the same scaffold are put in the same set. Another option is to use a **time-based split** because most records in ChEBML should be tagged with the date of their publication. \n",
    "\n",
    "Don't be discouraged by the lower results you obtain with these splits. By evaluating your model this way, you get more realistic scores that better reflect the future use cases of your model. The fact that lower evaluation scores may correspond to a better model is known as the **Kubinyi paradox**.\n",
    "\n",
    "You can now implement a more advanced data split and compare the prediction results on the testing set."
   ]
  },
  {
   "cell_type": "code",
   "execution_count": 18,
   "id": "75da0975",
   "metadata": {},
   "outputs": [
    {
     "name": "stdout",
     "output_type": "stream",
     "text": [
      "RMSE, MAE, R2 = 1945521.7150002497, 183103.7846903982, -2.449499642186893\n"
     ]
    }
   ],
   "source": [
    "# I implemented time-based split\n",
    "\n",
    "sorted_df = df.sort_values(by='Document Year', axis=0, ascending=False)\n",
    "train_size = (len(df) * 4) // 5\n",
    "df_train_time_split = sorted_df[:train_size]\n",
    "df_test_time_split = sorted_df[train_size:]\n",
    "\n",
    "X_train_time_split, y_train_time_split = featurizer(df_train_time_split)\n",
    "X_test_time_split, y_test_time_split = featurizer(df_test_time_split)\n",
    "\n",
    "# model_time_split = MLPRegressor(hidden_layer_sizes=(100,), activation='relu').fit(X_train, y_train)\n",
    "model_time_split = RandomForestRegressor().fit(X_train, y_train)\n",
    "\n",
    "predictions = model_time_split.predict(X_test)\n",
    "rmse_score = rmse(y_test, predictions)\n",
    "mae_score = mae(y_test, predictions)\n",
    "r2_score = r_squared(y_test, predictions)\n",
    "print(f'RMSE, MAE, R2 = {rmse_score}, {mae_score}, {r2_score}')"
   ]
  },
  {
   "cell_type": "markdown",
   "id": "de578043",
   "metadata": {},
   "source": [
    "Random Forest Regressor dealt with this problem quite nicely (although for the worse MLPRegressor the difference in performance was significant)"
   ]
  },
  {
   "cell_type": "code",
   "execution_count": 20,
   "id": "3c35ad7a",
   "metadata": {},
   "outputs": [
    {
     "data": {
      "image/png": "[encoded data removed]",
      "text/plain": [
       "<Figure size 640x480 with 1 Axes>"
      ]
     },
     "metadata": {},
     "output_type": "display_data"
    },
    {
     "name": "stdout",
     "output_type": "stream",
     "text": [
      "2195.6  52.068999999999996\n",
      "58310.0  2088.37288\n",
      "59.0  41218.95515328975\n",
      "68200.0  33576.05045000001\n",
      "20892961.31  7527.666500000001\n",
      "125.89  1379.0383199999999\n",
      "518.0  1418.4060421212123\n",
      "460.0  10881.831400000001\n",
      "5780.0  62705.873265\n",
      "1500.0  6307.845137198088\n"
     ]
    }
   ],
   "source": [
    "predictions = model_time_split.predict(X_test_time_split)\n",
    "plt.scatter(np.log(y_test_time_split), np.log(predictions))\n",
    "plt.show()\n",
    "for i in range(10):\n",
    "    print(f'{y_test[i]}  {predictions[i]}')"
   ]
  },
  {
   "cell_type": "markdown",
   "id": "1b4adf86",
   "metadata": {},
   "source": [
    "**(optional) Excercise 1.2.** *(label transformations)*\n",
    "\n",
    "As mentioned above, using the logarithmic values can improve the prediction results by eliminating extreme values. Another option is to transform continuous measurements into binary classes, where active compounds are those with IC$_{50}$/Ki values below a certain treshold, and the rest is assumed inactive. This approach can also help dealing with inaccurate noisy measurements.\n",
    "\n",
    "Try to convert labels into pIC$_{50}$/pKi values or change the regression task to a binary classification problem."
   ]
  },
  {
   "cell_type": "code",
   "execution_count": 21,
   "id": "ff25db02",
   "metadata": {},
   "outputs": [
    {
     "name": "stdout",
     "output_type": "stream",
     "text": [
      "RMSE, MAE, R2 = 0.9037738829951829, 0.6235359384425523, 0.560375906553228\n"
     ]
    }
   ],
   "source": [
    "# I will predict pIC50\n",
    "featurizer_pIC50 = Featurizer(use_logarithm=True)\n",
    "X_train_pIC50, y_train_pIC50 = featurizer_pIC50(df_train)\n",
    "X_test_pIC50, y_test_pIC50 = featurizer_pIC50(df_test)\n",
    "\n",
    "model_pIC50 = MLPRegressor().fit(X_train_pIC50, y_train_pIC50)\n",
    "\n",
    "predictions = model_pIC50.predict(X_test_pIC50)\n",
    "rmse_score = rmse(y_test_pIC50, predictions)\n",
    "mae_score = mae(y_test_pIC50, predictions)\n",
    "r2_score = r_squared(y_test_pIC50, predictions)\n",
    "print(f'RMSE, MAE, R2 = {rmse_score}, {mae_score}, {r2_score}')"
   ]
  },
  {
   "cell_type": "markdown",
   "id": "0f5ec553",
   "metadata": {},
   "source": [
    "The results for pIC50 are better significantly better than for IC50. Even multi layer perceptron, which appeared to work worse before, gives satisfactory results here."
   ]
  },
  {
   "cell_type": "code",
   "execution_count": 22,
   "id": "a1dacd1c",
   "metadata": {},
   "outputs": [
    {
     "data": {
      "image/png": "[encoded data removed]",
      "text/plain": [
       "<Figure size 640x480 with 1 Axes>"
      ]
     },
     "metadata": {},
     "output_type": "display_data"
    },
    {
     "name": "stdout",
     "output_type": "stream",
     "text": [
      "-3.341553222109577  -4.116957355579425\n",
      "-4.765743041421044  -4.478875829886105\n",
      "-1.7708520116421442  -1.6486032230203844\n",
      "-4.833784374656479  -6.950093942119339\n",
      "-7.3200000000303405  -4.299365234441394\n",
      "-2.099991233544684  -2.8405117497910983\n",
      "-2.714329759745233  -3.1683534466111856\n",
      "-2.6627578316815743  -2.811357373692808\n",
      "-3.761927838420529  -3.1805207959127193\n",
      "-3.1760912590556813  -2.7260286091485426\n"
     ]
    }
   ],
   "source": [
    "plt.scatter(y_test_pIC50, predictions)\n",
    "plt.show()\n",
    "for i in range(10):\n",
    "    print(f'{y_test_pIC50[i]}  {predictions[i]}')"
   ]
  },
  {
   "cell_type": "markdown",
   "id": "f52bdb65",
   "metadata": {},
   "source": [
    "**(optional) Excercise 1.3.** *(exploratory data analysis, data filtering)*\n",
    "\n",
    "Can you find any discrepancies in the data? For example, do you find any outliers or duplicated SMILES strings? Can you solve these problems?"
   ]
  },
  {
   "cell_type": "code",
   "execution_count": null,
   "id": "e04424b6",
   "metadata": {},
   "outputs": [],
   "source": [
    "# Hint: A dot in the SMILES string indicates multiple compounds (this is a separator)\n",
    "df[df.Smiles.str.contains('\\.')]\n",
    "\n",
    "# TODO: Perform Exploratory Data Analysis"
   ]
  },
  {
   "cell_type": "markdown",
   "id": "05485c54",
   "metadata": {},
   "source": [
    "# ZINC\n",
    "\n",
    "[ZINC](https://zinc.docking.org/) is a database of commercially available compounds. This data can be used for **virtual screening**, i.e. finding active molecules using only *in silico* (computer) methods. These compounds can be then purchased and tested *in vitro* (in cells or biomolecules) or *in vivo* (in living organisms)."
   ]
  },
  {
   "cell_type": "markdown",
   "id": "26a93a55",
   "metadata": {},
   "source": [
    "**Exercise 2.** Perform virtual screening. Use the model trained in Exercise 1 to find the most active compounds in a ZINC subset. Which compounds should be selected to be purchased or synthesized?\n",
    "\n",
    "Save the output as a CSV file containing 100 compounds (SMILES strings) and their predicted activity values."
   ]
  },
  {
   "cell_type": "code",
   "execution_count": 37,
   "id": "a87fc1e0",
   "metadata": {},
   "outputs": [],
   "source": [
    "# (1) load data\n",
    "zinc_df = pd.read_csv('zinc.smi', sep=' ')\n",
    "zinc_df.head()\n",
    "# (2) convert representation\n",
    "fingerprints = []\n",
    "for _, row in zinc_df.iterrows():\n",
    "    smiles = row['smiles']\n",
    "    mol = Chem.MolFromSmiles(smiles)\n",
    "    fp = AllChem.GetMorganFingerprintAsBitVect(mol, 2, nBits=2048)\n",
    "    fingerprints.append(fp)\n",
    "# (3) predict activity\n",
    "predictions = model_pIC50.predict(fingerprints)"
   ]
  },
  {
   "cell_type": "code",
   "execution_count": 38,
   "id": "59955fac",
   "metadata": {
    "scrolled": false
   },
   "outputs": [],
   "source": [
    "# (4) show drug candidates\n",
    "indices = np.argpartition(predictions, -100)[-100:]\n",
    "best_compounds = list()\n",
    "for i in indices:\n",
    "    best_compounds.append([zinc_df._get_value(i, 'smiles'), predictions[i]])\n",
    "output = pd.DataFrame(best_compounds, columns=['smiles', 'pred_pIC50'])\n",
    "output.to_csv('predictions.csv', index=False, sep=' ')"
   ]
  },
  {
   "cell_type": "markdown",
   "id": "ba027987",
   "metadata": {},
   "source": [
    "**(optional) Exercise 2.1.** *(Compound novelty and diversity)*\n",
    "\n",
    "How similar are the selected compounds to the training data? Can you measure the diversity of these compounds? How should these values impact your selection?\n",
    "\n",
    "I used function from [here](https://www.rdkit.org/docs/GettingStartedInPython.html#fingerprinting-and-molecular-similarity:~:text=%3DTrue\\)-,%3E%3E%3E%20DataStructs.DiceSimilarity(fp1%2Cfp2),-0.36...%0A%3E%3E%3E)"
   ]
  },
  {
   "cell_type": "markdown",
   "id": "b088de5f",
   "metadata": {},
   "source": [
    "As we can see, the compounds are quite different; Unfortunaly, I don't know to what extent was it expected and to what extent is it due to the model imperfections."
   ]
  },
  {
   "cell_type": "code",
   "execution_count": 39,
   "id": "0dc65ca3",
   "metadata": {},
   "outputs": [
    {
     "data": {
      "image/png": "[encoded data removed]",
      "text/plain": [
       "<Figure size 640x480 with 1 Axes>"
      ]
     },
     "metadata": {},
     "output_type": "display_data"
    }
   ],
   "source": [
    "# similar to https://www.rdkit.org/docs/GettingStartedInPython.html#fingerprinting-and-molecular-similarity:~:text=%3DTrue)-,%3E%3E%3E%20DataStructs.DiceSimilarity(fp1%2Cfp2),-0.36...%0A%3E%3E%3E\n",
    "a = np.ndarray((100,100), dtype='float')\n",
    "for i, x in enumerate(indices):\n",
    "    for j, y in enumerate(indices):\n",
    "        a[i][j] = DataStructs.DiceSimilarity(fingerprints[x], fingerprints[y])\n",
    "plt.imshow(a, cmap='hot', interpolation='nearest')\n",
    "plt.show()"
   ]
  },
  {
   "cell_type": "markdown",
   "id": "738763e0",
   "metadata": {},
   "source": [
    "You can use **t-SNE** to find structural similarities in your dataset. t-SNE is a tool for high-dimensional data visualization (**dimensionality reduction**). It transforms n-dimensional data into 2-dimensional map in which distances should be proportional to the distances in the original space."
   ]
  },
  {
   "cell_type": "markdown",
   "id": "3b6b8a33",
   "metadata": {},
   "source": [
    "I couldn't get t-SNE to work, so here is PCA instead"
   ]
  },
  {
   "cell_type": "code",
   "execution_count": 40,
   "id": "3fc49217",
   "metadata": {},
   "outputs": [],
   "source": [
    "from sklearn.decomposition import PCA\n",
    "\n",
    "def get_morgan(smiles):\n",
    "    mol = Chem.MolFromSmiles(smiles)\n",
    "    fingerprint = AllChem.GetMorganFingerprintAsBitVect(mol, radius=4)\n",
    "    return np.array(fingerprint)\n",
    "\n",
    "df_zinc = pd.read_csv('zinc.smi', sep=' ', index_col=1).sample(n=1000)\n",
    "df_zinc['fingerprint'] = [get_morgan(smiles) for smiles in df_zinc.smiles]\n",
    "df_best = pd.read_csv('predictions.csv', sep=' ', index_col=1)\n",
    "df_best['fingerprint'] = [get_morgan(smiles) for smiles in df_best.smiles]"
   ]
  },
  {
   "cell_type": "code",
   "execution_count": 41,
   "id": "be193f7b",
   "metadata": {},
   "outputs": [],
   "source": [
    "pca = PCA(n_components=2)\n",
    "pca.fit(np.stack(df_zinc.fingerprint))\n",
    "random_sample = pca.transform(np.stack(df_zinc.fingerprint))\n",
    "chosen_sample = pca.transform(np.stack(df_best.fingerprint))"
   ]
  },
  {
   "cell_type": "code",
   "execution_count": 44,
   "id": "4d2af722",
   "metadata": {},
   "outputs": [
    {
     "data": {
      "image/png": "[encoded data removed]",
      "text/plain": [
       "<Figure size 640x480 with 1 Axes>"
      ]
     },
     "metadata": {},
     "output_type": "display_data"
    }
   ],
   "source": [
    "plt.scatter(random_sample[:, 0], random_sample[:, 1], s=10)\n",
    "plt.scatter(chosen_sample[:, 0], chosen_sample[:, 1], s=10)\n",
    "plt.gca().set_aspect('equal')\n",
    "plt.title('PCA map of a ZINC subset')\n",
    "plt.xlabel('dim 1')\n",
    "plt.ylabel('dim 2')\n",
    "plt.show()"
   ]
  },
  {
   "cell_type": "markdown",
   "id": "724b5645",
   "metadata": {},
   "source": [
    "**(optional) Exercise 2.2.** *(Additional ADMET filters)*\n",
    "\n",
    "When selecting compounds, we need to consider also other properties, e.g. toxicity. Some structural patterns are well known to cause issues in terms of toxicity or synthesizability. We can quickly filter out compounds containing these patterns using their SMARTS strings (\"regular expressions\" for SMILES).\n",
    "\n",
    "Use [SureChEMBL](https://www.surechembl.org/search/) to remove problematic compounds."
   ]
  },
  {
   "cell_type": "code",
   "execution_count": null,
   "id": "da4176ed",
   "metadata": {},
   "outputs": [],
   "source": [
    "# TODO: Use SMARTS to filter out compounds"
   ]
  },
  {
   "cell_type": "markdown",
   "id": "a026098b",
   "metadata": {},
   "source": [
    "# PubChem"
   ]
  },
  {
   "cell_type": "markdown",
   "id": "b58edab6",
   "metadata": {},
   "source": [
    "[PubChem](https://pubchem.ncbi.nlm.nih.gov/) is a database of chemical information about small molecules. It contains various ADMET properties and 3D crystal structures of these molecules. You can easily find any compound using the SMILES representation or by drawing the structure in the tool on the website."
   ]
  },
  {
   "cell_type": "markdown",
   "id": "6fa5b555",
   "metadata": {},
   "source": [
    "**(optional) Exercise 3.** What information can you find about your selected top compounds?"
   ]
  }
 ],
 "metadata": {
  "kernelspec": {
   "display_name": "Python 3 (ipykernel)",
   "language": "python",
   "name": "python3"
  },
  "language_info": {
   "codemirror_mode": {
    "name": "ipython",
    "version": 3
   },
   "file_extension": ".py",
   "mimetype": "text/x-python",
   "name": "python",
   "nbconvert_exporter": "python",
   "pygments_lexer": "ipython3",
   "version": "3.9.16"
  }
 },
 "nbformat": 4,
 "nbformat_minor": 5
}
